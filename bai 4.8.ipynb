{
 "cells": [
  {
   "cell_type": "code",
   "execution_count": 1,
   "metadata": {},
   "outputs": [],
   "source": [
    "import numpy as np\n",
    "import pandas as pd"
   ]
  },
  {
   "cell_type": "code",
   "execution_count": 2,
   "metadata": {},
   "outputs": [
    {
     "data": {
      "text/plain": [
       "0     0.487051\n",
       "1     0.412058\n",
       "2     0.996422\n",
       "3     0.581913\n",
       "4     0.079930\n",
       "5     0.039485\n",
       "6     0.619893\n",
       "7     0.908807\n",
       "8     0.540692\n",
       "9     0.015659\n",
       "10    0.073753\n",
       "11    0.017592\n",
       "12    0.062174\n",
       "13    0.518158\n",
       "14    0.708164\n",
       "15    0.862684\n",
       "16    0.477585\n",
       "17    0.448944\n",
       "18    0.565333\n",
       "19    0.266338\n",
       "dtype: float64"
      ]
     },
     "execution_count": 2,
     "metadata": {},
     "output_type": "execute_result"
    }
   ],
   "source": [
    "ser = pd.Series(np.random.random(20))\n",
    "ser"
   ]
  },
  {
   "cell_type": "code",
   "execution_count": 3,
   "metadata": {},
   "outputs": [
    {
     "data": {
      "text/plain": [
       "0      Decile 6\n",
       "1      Decile 4\n",
       "2     Decile 10\n",
       "3      Decile 8\n",
       "4      Decile 3\n",
       "5      Decile 2\n",
       "6      Decile 8\n",
       "7     Decile 10\n",
       "8      Decile 7\n",
       "9      Decile 1\n",
       "10     Decile 3\n",
       "11     Decile 1\n",
       "12     Decile 2\n",
       "13     Decile 6\n",
       "14     Decile 9\n",
       "15     Decile 9\n",
       "16     Decile 5\n",
       "17     Decile 5\n",
       "18     Decile 7\n",
       "19     Decile 4\n",
       "dtype: category\n",
       "Categories (10, object): ['Decile 1' < 'Decile 2' < 'Decile 3' < 'Decile 4' ... 'Decile 7' < 'Decile 8' < 'Decile 9' < 'Decile 10']"
      ]
     },
     "execution_count": 3,
     "metadata": {},
     "output_type": "execute_result"
    }
   ],
   "source": [
    "equal_deciles = pd.qcut(ser, q=10, labels=[f\"Decile {i+1}\" for i in range(10)])\n",
    "equal_deciles"
   ]
  }
 ],
 "metadata": {
  "kernelspec": {
   "display_name": "base",
   "language": "python",
   "name": "python3"
  },
  "language_info": {
   "codemirror_mode": {
    "name": "ipython",
    "version": 3
   },
   "file_extension": ".py",
   "mimetype": "text/x-python",
   "name": "python",
   "nbconvert_exporter": "python",
   "pygments_lexer": "ipython3",
   "version": "3.12.4"
  }
 },
 "nbformat": 4,
 "nbformat_minor": 2
}
