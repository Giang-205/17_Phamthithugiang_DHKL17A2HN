{
 "cells": [
  {
   "cell_type": "code",
   "execution_count": 1,
   "metadata": {},
   "outputs": [],
   "source": [
    "import threading\n",
    "import requests\n",
    "\n"
   ]
  },
  {
   "cell_type": "code",
   "execution_count": 2,
   "metadata": {},
   "outputs": [
    {
     "name": "stdout",
     "output_type": "stream",
     "text": [
      "URL: https://www.example.com, Status Code: 200\n",
      "URL: https://www.example.net, Status Code: 200\n",
      "URL: https://www.example.org, Status Code: 200\n",
      "Các yêu cầu HTTP đã hoàn thành.\n"
     ]
    }
   ],
   "source": [
    "def make_request(url):\n",
    "    response = requests.get(url)\n",
    "    print(f\"URL: {url}, Status Code: {response.status_code}\")\n",
    "\n",
    "def main():\n",
    "    urls = [\n",
    "        'https://www.example.com',\n",
    "        'https://www.example.org',\n",
    "        'https://www.example.net',\n",
    "    ]\n",
    "\n",
    "    threads = []\n",
    "    for url in urls:\n",
    "        thread = threading.Thread(target=make_request, args=(url,))\n",
    "        threads.append(thread)\n",
    "        thread.start()\n",
    "\n",
    "    for thread in threads:\n",
    "        thread.join()\n",
    "\n",
    "    print(\"Các yêu cầu HTTP đã hoàn thành.\")\n",
    "\n",
    "if __name__ == \"__main__\":\n",
    "    main()"
   ]
  }
 ],
 "metadata": {
  "kernelspec": {
   "display_name": "base",
   "language": "python",
   "name": "python3"
  },
  "language_info": {
   "codemirror_mode": {
    "name": "ipython",
    "version": 3
   },
   "file_extension": ".py",
   "mimetype": "text/x-python",
   "name": "python",
   "nbconvert_exporter": "python",
   "pygments_lexer": "ipython3",
   "version": "3.12.4"
  }
 },
 "nbformat": 4,
 "nbformat_minor": 2
}
