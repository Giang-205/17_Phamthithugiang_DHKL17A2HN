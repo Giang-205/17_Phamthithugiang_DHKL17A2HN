{
 "cells": [
  {
   "cell_type": "code",
   "execution_count": 1,
   "metadata": {},
   "outputs": [],
   "source": [
    "import numpy as np\n",
    "import pandas as pd"
   ]
  },
  {
   "cell_type": "code",
   "execution_count": 2,
   "metadata": {},
   "outputs": [
    {
     "data": {
      "text/plain": [
       "0     h\n",
       "1     e\n",
       "2     g\n",
       "3     a\n",
       "4     a\n",
       "5     h\n",
       "6     d\n",
       "7     f\n",
       "8     a\n",
       "9     c\n",
       "10    c\n",
       "11    g\n",
       "12    e\n",
       "13    f\n",
       "14    b\n",
       "15    g\n",
       "16    b\n",
       "17    d\n",
       "18    f\n",
       "19    c\n",
       "20    d\n",
       "21    c\n",
       "22    b\n",
       "23    b\n",
       "24    d\n",
       "25    b\n",
       "26    f\n",
       "27    d\n",
       "28    e\n",
       "29    c\n",
       "dtype: object"
      ]
     },
     "execution_count": 2,
     "metadata": {},
     "output_type": "execute_result"
    }
   ],
   "source": [
    "ser = pd.Series(np.take(list('abcdefgh'), np.random.randint(8, size=30)))\n",
    "ser"
   ]
  },
  {
   "cell_type": "markdown",
   "metadata": {},
   "source": [
    "### 1.Giải thích ý nghĩa của đoạn code?"
   ]
  },
  {
   "cell_type": "markdown",
   "metadata": {},
   "source": [
    "#### 1.list('abcdefgh')\n",
    "Chuyển chuỗi 'abcdefgh' thành một danh sách các ký tự\n",
    "#### 2. np.random.randint(8, size=30):\n",
    "Tạo một biến ngẫu nhiên bao gồm 30 số nguyên từ 0 đến 7\n",
    "#### 3. np.take(list('abcdefgh'), np.random.randint(8, size=30)):\n",
    "- Hàm np.take được sử dụng để chọn các phần tử từ danh sách ['a','b',...,'h'] theo các chỉ số (chỉ mục) được tạo ngẫu nhiên ở bước trước.\n",
    "- Kết quả sẽ là một biến ngẫu nhiên gồm 30 ký tự, được lấy từ danh sách 'abcdefgh'\n",
    "#### 4.pd.Series(...):\n",
    "- Chuyển kết quả ký tự từ bước này sang Pandas Series.\n",
    "- Pandas Series là một dữ liệu cấu trúc tương tự như cột trong bảng, với một số ( index) tự động tạo.\n"
   ]
  },
  {
   "cell_type": "markdown",
   "metadata": {},
   "source": [
    "### 2. Tính số lần xuất hiện của mỗi giá trị duy nhất trong ser?"
   ]
  },
  {
   "cell_type": "code",
   "execution_count": 3,
   "metadata": {},
   "outputs": [
    {
     "data": {
      "text/plain": [
       "d    5\n",
       "c    5\n",
       "b    5\n",
       "f    4\n",
       "e    3\n",
       "g    3\n",
       "a    3\n",
       "h    2\n",
       "Name: count, dtype: int64"
      ]
     },
     "execution_count": 3,
     "metadata": {},
     "output_type": "execute_result"
    }
   ],
   "source": [
    "so_lan_xuat_hien = ser.value_counts()\n",
    "so_lan_xuat_hien"
   ]
  }
 ],
 "metadata": {
  "kernelspec": {
   "display_name": "base",
   "language": "python",
   "name": "python3"
  },
  "language_info": {
   "codemirror_mode": {
    "name": "ipython",
    "version": 3
   },
   "file_extension": ".py",
   "mimetype": "text/x-python",
   "name": "python",
   "nbconvert_exporter": "python",
   "pygments_lexer": "ipython3",
   "version": "3.12.4"
  }
 },
 "nbformat": 4,
 "nbformat_minor": 2
}
